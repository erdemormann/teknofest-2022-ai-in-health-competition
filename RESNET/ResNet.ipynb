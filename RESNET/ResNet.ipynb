{
 "cells": [
  {
   "cell_type": "code",
   "execution_count": 1,
   "metadata": {
    "colab": {},
    "colab_type": "code",
    "id": "BIL95XzEIK4r"
   },
   "outputs": [],
   "source": [
    "import torch\n",
    "import torch.nn as nn\n",
    "import torch.nn.functional as F\n",
    "import torch.optim as optim\n",
    "import torchvision\n",
    "import torchvision.transforms as transforms\n",
    "import torchvision.datasets as datasets\n",
    "import matplotlib.pyplot as plt\n",
    "import numpy as np\n",
    "import time\n",
    "from sklearn.metrics import *"
   ]
  },
  {
   "cell_type": "code",
   "execution_count": 2,
   "metadata": {},
   "outputs": [
    {
     "name": "stdout",
     "output_type": "stream",
     "text": [
      "Device:  cuda\n",
      "NVIDIA GeForce RTX 3050 Ti Laptop GPU\n",
      "1\n",
      "(8, 6)\n",
      "_CudaDeviceProperties(name='NVIDIA GeForce RTX 3050 Ti Laptop GPU', major=8, minor=6, total_memory=4095MB, multi_processor_count=20)\n",
      "True\n",
      "True\n",
      "False\n",
      "False\n"
     ]
    },
    {
     "data": {
      "text/plain": [
       "True"
      ]
     },
     "execution_count": 2,
     "metadata": {},
     "output_type": "execute_result"
    }
   ],
   "source": [
    "device = torch.device('cuda' if torch.cuda.is_available() else 'cpu')\n",
    "print(\"Device: \",device)\n",
    "print(torch.cuda.get_device_name(0))\n",
    "print(torch.cuda.device_count())\n",
    "print(torch.cuda.get_device_capability())\n",
    "print(torch.cuda.get_device_properties(device))\n",
    "print(torch.backends.cudnn.is_available())\n",
    "print(torch.backends.cudnn.enabled)\n",
    "print(torch.backends.cudnn.deterministic)\n",
    "print(torch.backends.cudnn.benchmark)\n",
    "torch.cuda.init() # PyTorch'un CUDA durumunu başlatın.\n",
    "torch.cuda.is_initialized() # PyTorch'un CUDA durumunun başlatılıp başlatılmadığını döndürür."
   ]
  },
  {
   "cell_type": "code",
   "execution_count": null,
   "metadata": {},
   "outputs": [],
   "source": []
  },
  {
   "cell_type": "markdown",
   "metadata": {},
   "source": [
    " # distrübüted için bu lazım\n",
    " https://medium.com/codex/a-comprehensive-tutorial-to-pytorch-distributeddataparallel-1f4b42bb1b51"
   ]
  },
  {
   "cell_type": "code",
   "execution_count": 3,
   "metadata": {
    "colab": {},
    "colab_type": "code",
    "id": "GbUBH0aVIqPt"
   },
   "outputs": [],
   "source": [
    "# Normalize training set together with augmentation\n",
    "transform_train = transforms.Compose([\n",
    "    transforms.RandomCrop(224, padding=4),\n",
    "    transforms.RandomHorizontalFlip(),\n",
    "    transforms.ToTensor(),\n",
    "    transforms.Normalize(mean=[x / 255.0 for x in[0.507, 0.487, 0.441]],\n",
    "                                     std=[x / 255.0 for x in [0.267, 0.256, 0.276]])\n",
    "])\n",
    "\n",
    "# Normalize test set same as training set without augmentation\n",
    "transform_test = transforms.Compose([\n",
    "    transforms.ToTensor(),\n",
    "    transforms.Normalize(mean=[x / 255.0 for x in[0.507, 0.487, 0.441]],\n",
    "                                     std=[x / 255.0 for x in [0.267, 0.256, 0.276]])\n",
    "])"
   ]
  },
  {
   "cell_type": "code",
   "execution_count": 4,
   "metadata": {
    "colab": {
     "base_uri": "https://localhost:8080/",
     "height": 100,
     "referenced_widgets": [
      "8bffefb88a124d4a9c0c209b1bde1950",
      "74ff845e25604f548f47fea8b629a4aa",
      "17ab7edf3843410182a0e1b1d2f992fe",
      "a923df6caf654c10adc55ff9c519bb2d",
      "3dd48e39941c4b83a6bb5181fccf9554",
      "8b89d0abb7194008bbce622ed5687265",
      "a15ab6aea3ca43809d12366dd3563b2c",
      "fc5d9dfdd01546b281c589d9b3e93959"
     ]
    },
    "colab_type": "code",
    "id": "4b3Niu-XIqOR",
    "outputId": "c27db1d0-15d2-449f-cceb-75aa145dc6e1"
   },
   "outputs": [],
   "source": [
    "train_size = 0.8\n",
    "test_size = 0.2\n",
    "learning_rate=0.001\n",
    "num_epochs = 30\n",
    "momentum=0.9\n",
    "weight_decay=1e-5\n",
    "batch_size_train=64\n",
    "batch_size_test=64\n",
    "batch_size = 64\n",
    "trainset = torchvision.datasets.ImageFolder(root = \"./data\",\n",
    "                                         transform=transform_train)\n",
    "trainloader = torch.utils.data.DataLoader(\n",
    "    trainset, batch_size=batch_size_train, shuffle=True, num_workers=0)\n",
    "\n",
    "testset = torchvision.datasets.ImageFolder(root = \"./data\",\n",
    "                                        transform=transform_test)\n",
    "testloader = torch.utils.data.DataLoader(\n",
    "    testset, batch_size=batch_size_test, shuffle=False, num_workers=0)\n"
   ]
  },
  {
   "cell_type": "code",
   "execution_count": 5,
   "metadata": {},
   "outputs": [
    {
     "name": "stdout",
     "output_type": "stream",
     "text": [
      "Device:  cuda\n",
      "NVIDIA GeForce RTX 3050 Ti Laptop GPU\n"
     ]
    }
   ],
   "source": [
    "device = torch.device('cuda' if torch.cuda.is_available() else 'cpu')\n",
    "print(\"Device: \",device)\n",
    "print(torch.cuda.get_device_name())"
   ]
  },
  {
   "cell_type": "code",
   "execution_count": 6,
   "metadata": {},
   "outputs": [
    {
     "data": {
      "text/plain": [
       "'NVIDIA GeForce RTX 3050 Ti Laptop GPU'"
      ]
     },
     "execution_count": 6,
     "metadata": {},
     "output_type": "execute_result"
    }
   ],
   "source": [
    "torch.cuda.get_device_name(0)"
   ]
  },
  {
   "cell_type": "code",
   "execution_count": null,
   "metadata": {},
   "outputs": [],
   "source": []
  },
  {
   "cell_type": "code",
   "execution_count": 12,
   "metadata": {},
   "outputs": [
    {
     "data": {
      "text/plain": [
       "1"
      ]
     },
     "execution_count": 12,
     "metadata": {},
     "output_type": "execute_result"
    }
   ],
   "source": [
    "torch.cuda.device_count()"
   ]
  },
  {
   "cell_type": "code",
   "execution_count": 13,
   "metadata": {},
   "outputs": [
    {
     "data": {
      "text/plain": [
       "device(type='cuda')"
      ]
     },
     "execution_count": 13,
     "metadata": {},
     "output_type": "execute_result"
    }
   ],
   "source": [
    "torch.device(device) # başka bir kontrol biçimi "
   ]
  },
  {
   "cell_type": "code",
   "execution_count": 14,
   "metadata": {},
   "outputs": [
    {
     "data": {
      "text/plain": [
       "(8, 6)"
      ]
     },
     "execution_count": 14,
     "metadata": {},
     "output_type": "execute_result"
    }
   ],
   "source": [
    "torch.cuda.get_device_capability() # Sahip olduğumuz GPU'Nun CUDA yeteneğini belirten bir sayı döndürür. Örneğin benim ki 8,6"
   ]
  },
  {
   "cell_type": "code",
   "execution_count": 15,
   "metadata": {},
   "outputs": [
    {
     "data": {
      "text/plain": [
       "_CudaDeviceProperties(name='NVIDIA GeForce RTX 3050 Ti Laptop GPU', major=8, minor=6, total_memory=4095MB, multi_processor_count=20)"
      ]
     },
     "execution_count": 15,
     "metadata": {},
     "output_type": "execute_result"
    }
   ],
   "source": [
    "torch.cuda.get_device_properties(device) # CUDA cihazının özelliklerini aktarır."
   ]
  },
  {
   "cell_type": "code",
   "execution_count": 16,
   "metadata": {},
   "outputs": [
    {
     "data": {
      "text/plain": [
       "True"
      ]
     },
     "execution_count": 16,
     "metadata": {},
     "output_type": "execute_result"
    }
   ],
   "source": [
    "torch.cuda.init() # PyTorch'un CUDA durumunu başlatın.\n",
    "torch.cuda.is_initialized() # PyTorch'un CUDA durumunun başlatılıp başlatılmadığını döndürür."
   ]
  },
  {
   "cell_type": "code",
   "execution_count": 17,
   "metadata": {},
   "outputs": [],
   "source": [
    "\n",
    "torch.cuda.synchronize() #Bir CUDA aygıtındaki tüm akışlardaki tüm çekirdeklerin tamamlanmasını bekler."
   ]
  },
  {
   "cell_type": "code",
   "execution_count": 18,
   "metadata": {},
   "outputs": [
    {
     "data": {
      "text/plain": [
       "True"
      ]
     },
     "execution_count": 18,
     "metadata": {},
     "output_type": "execute_result"
    }
   ],
   "source": [
    "torch.backends.cudnn.is_available() # CUDNN'nin şu anda kullanılabilir olup olmadığını gösteren bir bool döndürür."
   ]
  },
  {
   "cell_type": "code",
   "execution_count": 19,
   "metadata": {},
   "outputs": [
    {
     "data": {
      "text/plain": [
       "True"
      ]
     },
     "execution_count": 19,
     "metadata": {},
     "output_type": "execute_result"
    }
   ],
   "source": [
    "torch.backends.cudnn.enabled # Bir bool cuDNN etkin olup olmadığını kontrol eder."
   ]
  },
  {
   "cell_type": "code",
   "execution_count": 20,
   "metadata": {},
   "outputs": [
    {
     "data": {
      "text/plain": [
       "False"
      ]
     },
     "execution_count": 20,
     "metadata": {},
     "output_type": "execute_result"
    }
   ],
   "source": [
    "torch.backends.cudnn.deterministic # Bir booltrue ise, sadece cuDNN neden olan, deterministic convolution algoritmaları \n",
    "#kullanılmaktadır."
   ]
  },
  {
   "cell_type": "code",
   "execution_count": 21,
   "metadata": {},
   "outputs": [
    {
     "data": {
      "text/plain": [
       "False"
      ]
     },
     "execution_count": 21,
     "metadata": {},
     "output_type": "execute_result"
    }
   ],
   "source": [
    "torch.backends.cudnn.benchmark #Bir bool true ise, kriter convolution algoritmalarında cuDNN'i kullanır ve en hızlı olanı seçer."
   ]
  },
  {
   "cell_type": "code",
   "execution_count": 17,
   "metadata": {},
   "outputs": [],
   "source": [
    "#torch.cuda.set_device(1)"
   ]
  },
  {
   "cell_type": "code",
   "execution_count": null,
   "metadata": {},
   "outputs": [],
   "source": []
  },
  {
   "cell_type": "markdown",
   "metadata": {
    "colab": {
     "base_uri": "https://localhost:8080/",
     "height": 51
    },
    "colab_type": "code",
    "id": "hgr934McIqKU",
    "outputId": "40589474-35b0-49ef-c5bd-ebde65f5c97e"
   },
   "source": [
    "device0 = torch.device('cuda:0' if torch.cuda.is_available() else 'cpu')\n",
    "print(\"Device: \",device0)\n",
    "print(torch.cuda.get_device_name())\n",
    "\n"
   ]
  },
  {
   "cell_type": "markdown",
   "metadata": {},
   "source": [
    "device1 = torch.device('cuda:1' if torch.cuda.is_available() else 'cpu')\n",
    "print(\"Device: \",device1)\n",
    "print(torch.cuda.get_device_name())"
   ]
  },
  {
   "cell_type": "code",
   "execution_count": null,
   "metadata": {},
   "outputs": [],
   "source": []
  },
  {
   "cell_type": "code",
   "execution_count": 22,
   "metadata": {
    "colab": {},
    "colab_type": "code",
    "id": "B0S09JjOIqIb"
   },
   "outputs": [],
   "source": [
    "class BasicBlock(nn.Module):\n",
    "    \"\"\"Basic Block for resnet 18 and resnet 34\n",
    "    \"\"\"\n",
    "\n",
    "    #BasicBlock and BottleNeck block\n",
    "    #have different output size\n",
    "    #we use class attribute expansion\n",
    "    #to distinct\n",
    "    expansion = 1\n",
    "\n",
    "    def __init__(self, in_channels, out_channels, stride=1):\n",
    "        super().__init__()\n",
    "\n",
    "        #residual function\n",
    "        self.residual_function = nn.Sequential(\n",
    "            nn.Conv2d(in_channels, out_channels, kernel_size=3, stride=stride, padding=1, bias=False),\n",
    "            nn.BatchNorm2d(out_channels),\n",
    "            nn.LeakyReLU(inplace=True),\n",
    "            nn.Conv2d(out_channels, out_channels * BasicBlock.expansion, kernel_size=3, padding=1, bias=False),\n",
    "            nn.BatchNorm2d(out_channels * BasicBlock.expansion)\n",
    "        )\n",
    "\n",
    "        #shortcut\n",
    "        self.shortcut = nn.Sequential()\n",
    "\n",
    "        #the shortcut output dimension is not the same with residual function\n",
    "        #use 1*1 convolution to match the dimension\n",
    "        if stride != 1 or in_channels != BasicBlock.expansion * out_channels:\n",
    "            self.shortcut = nn.Sequential(\n",
    "                nn.Conv2d(in_channels, out_channels * BasicBlock.expansion, kernel_size=1, stride=stride, bias=False),\n",
    "                nn.BatchNorm2d(out_channels * BasicBlock.expansion)\n",
    "            )\n",
    "\n",
    "    def forward(self, x):\n",
    "        return nn.LeakyReLU(inplace=True)(self.residual_function(x) + self.shortcut(x))\n",
    "\n",
    "class BottleNeck(nn.Module):\n",
    "    \"\"\"Residual block for resnet over 50 layers\n",
    "    \"\"\"\n",
    "    expansion = 2\n",
    "    def __init__(self, in_channels, out_channels, stride=1):\n",
    "        super().__init__()\n",
    "        self.residual_function = nn.Sequential(\n",
    "            nn.Conv2d(in_channels, out_channels, kernel_size=1, bias=False),\n",
    "            nn.BatchNorm2d(out_channels),\n",
    "            nn.LeakyReLU(inplace=True),\n",
    "            nn.Conv2d(out_channels, out_channels, stride=stride, kernel_size=3, padding=1, bias=False),\n",
    "            nn.BatchNorm2d(out_channels),\n",
    "            nn.LeakyReLU(inplace=True),\n",
    "            nn.Conv2d(out_channels, out_channels * BottleNeck.expansion, kernel_size=1, bias=False),\n",
    "            nn.BatchNorm2d(out_channels * BottleNeck.expansion),\n",
    "        )\n",
    "\n",
    "        self.shortcut = nn.Sequential()\n",
    "\n",
    "        if stride != 1 or in_channels != out_channels * BottleNeck.expansion:\n",
    "            self.shortcut = nn.Sequential(\n",
    "                nn.Conv2d(in_channels, out_channels * BottleNeck.expansion, stride=stride, kernel_size=1, bias=False),\n",
    "                nn.BatchNorm2d(out_channels * BottleNeck.expansion)\n",
    "            )\n",
    "\n",
    "    def forward(self, x):\n",
    "        return nn.LeakyReLU(inplace=True)(self.residual_function(x) + self.shortcut(x))\n",
    "\n",
    "class ResNet(nn.Module):\n",
    "\n",
    "    def __init__(self, block, num_block, num_classes=100):\n",
    "        super().__init__()\n",
    "\n",
    "        self.in_channels = 64\n",
    "\n",
    "        self.conv1 = nn.Sequential(\n",
    "            nn.Conv2d(3, 64, kernel_size=3, padding=1, bias=False),\n",
    "            nn.BatchNorm2d(64),\n",
    "            nn.LeakyReLU(inplace=True))\n",
    "        #we use a different inputsize than the original paper\n",
    "        #so conv2_x's stride is 1\n",
    "        self.conv2_x = self._make_layer(block, 64, num_block[0], 1)\n",
    "        self.conv3_x = self._make_layer(block, 128, num_block[1], 2)\n",
    "        self.conv4_x = self._make_layer(block, 256, num_block[2], 2)\n",
    "        self.conv5_x = self._make_layer(block, 512, num_block[3], 2)\n",
    "        self.avg_pool = nn.AdaptiveAvgPool2d((1, 1))\n",
    "        self.dropout = nn.Dropout(0.5)\n",
    "        self.fc = nn.Linear(512 * block.expansion, num_classes)\n",
    "\n",
    "    def _make_layer(self, block, out_channels, num_blocks, stride):\n",
    "        \"\"\"make resnet layers(by layer i didnt mean this 'layer' was the\n",
    "        same as a neuron netowork layer, ex. conv layer), one layer may\n",
    "        contain more than one residual block\n",
    "        Args:\n",
    "            block: block type, basic block or bottle neck block\n",
    "            out_channels: output depth channel number of this layer\n",
    "            num_blocks: how many blocks per layer\n",
    "            stride: the stride of the first block of this layer\n",
    "        Return:\n",
    "            return a resnet layer\n",
    "        \"\"\"\n",
    "\n",
    "        # we have num_block blocks per layer, the first block\n",
    "        # could be 1 or 2, other blocks would always be 1\n",
    "        strides = [stride] + [1] * (num_blocks - 1)\n",
    "        layers = []\n",
    "        for stride in strides:\n",
    "            layers.append(block(self.in_channels, out_channels, stride))\n",
    "            self.in_channels = out_channels * block.expansion\n",
    "\n",
    "        return nn.Sequential(*layers)\n",
    "\n",
    "    def forward(self, x):\n",
    "        output = self.conv1(x)\n",
    "        output = self.conv2_x(output)\n",
    "        output = self.conv3_x(output)\n",
    "        output = self.conv4_x(output)\n",
    "        output = self.conv5_x(output)\n",
    "        output = self.avg_pool(output)\n",
    "        output = self.dropout(output)\n",
    "        output = output.view(output.size(0), -1)\n",
    "        output = self.fc(output)\n",
    "\n",
    "        return output\n",
    "\n",
    "def resnet18():\n",
    "    \"\"\" return a ResNet 18 object\n",
    "    \"\"\"\n",
    "    return ResNet(BasicBlock, [2, 2, 2, 2])\n",
    "\n",
    "def resnet34():\n",
    "    \"\"\" return a ResNet 34 object\n",
    "    \"\"\"\n",
    "    return ResNet(BasicBlock, [3, 4, 6, 3])\n",
    "\n",
    "def resnet50():\n",
    "    \"\"\" return a ResNet 50 object\n",
    "    \"\"\"\n",
    "    return ResNet(BottleNeck, [3, 4, 6, 3])\n",
    "\n",
    "def resnet101():\n",
    "    \"\"\" return a ResNet 101 object\n",
    "    \"\"\"\n",
    "    return ResNet(BottleNeck, [3, 4, 23, 3])\n",
    "\n",
    "def resnet152():\n",
    "    \"\"\" return a ResNet 152 object\n",
    "    \"\"\"\n",
    "    return ResNet(BottleNeck, [3, 8, 36, 3])"
   ]
  },
  {
   "cell_type": "code",
   "execution_count": null,
   "metadata": {},
   "outputs": [],
   "source": []
  },
  {
   "cell_type": "code",
   "execution_count": 23,
   "metadata": {
    "colab": {},
    "colab_type": "code",
    "id": "1-IfSV0BIqF0"
   },
   "outputs": [],
   "source": [
    "##from torch.nn.parallel import DistributedDataParallel as DDP ##import etme\n",
    "model = resnet18() #buradan resnet modeli seçiliyor\n",
    "\n",
    "model = model.cuda(device)# I choose ResNet50. Because of Memory :(\n",
    "#model= DDP(model, device_ids=[device])"
   ]
  },
  {
   "cell_type": "code",
   "execution_count": 24,
   "metadata": {
    "colab": {},
    "colab_type": "code",
    "id": "8Lj6lNHtYsK3"
   },
   "outputs": [],
   "source": [
    "criterion = nn.CrossEntropyLoss()\n",
    "optimizer = torch.optim.Adam(model.parameters(),lr = learning_rate)"
   ]
  },
  {
   "cell_type": "code",
   "execution_count": 25,
   "metadata": {
    "colab": {
     "base_uri": "https://localhost:8080/",
     "height": 1000
    },
    "colab_type": "code",
    "id": "EdCp0VouX-qA",
    "outputId": "c291b1d3-3c03-4a35-c2c1-1f7135c0a709"
   },
   "outputs": [
    {
     "name": "stdout",
     "output_type": "stream",
     "text": [
      "Trainable parameters:\n",
      "conv1.0.weight \t 1728\n",
      "conv1.1.weight \t 64\n",
      "conv1.1.bias \t 64\n",
      "conv2_x.0.residual_function.0.weight \t 36864\n",
      "conv2_x.0.residual_function.1.weight \t 64\n",
      "conv2_x.0.residual_function.1.bias \t 64\n",
      "conv2_x.0.residual_function.3.weight \t 36864\n",
      "conv2_x.0.residual_function.4.weight \t 64\n",
      "conv2_x.0.residual_function.4.bias \t 64\n",
      "conv2_x.1.residual_function.0.weight \t 36864\n",
      "conv2_x.1.residual_function.1.weight \t 64\n",
      "conv2_x.1.residual_function.1.bias \t 64\n",
      "conv2_x.1.residual_function.3.weight \t 36864\n",
      "conv2_x.1.residual_function.4.weight \t 64\n",
      "conv2_x.1.residual_function.4.bias \t 64\n",
      "conv3_x.0.residual_function.0.weight \t 73728\n",
      "conv3_x.0.residual_function.1.weight \t 128\n",
      "conv3_x.0.residual_function.1.bias \t 128\n",
      "conv3_x.0.residual_function.3.weight \t 147456\n",
      "conv3_x.0.residual_function.4.weight \t 128\n",
      "conv3_x.0.residual_function.4.bias \t 128\n",
      "conv3_x.0.shortcut.0.weight \t 8192\n",
      "conv3_x.0.shortcut.1.weight \t 128\n",
      "conv3_x.0.shortcut.1.bias \t 128\n",
      "conv3_x.1.residual_function.0.weight \t 147456\n",
      "conv3_x.1.residual_function.1.weight \t 128\n",
      "conv3_x.1.residual_function.1.bias \t 128\n",
      "conv3_x.1.residual_function.3.weight \t 147456\n",
      "conv3_x.1.residual_function.4.weight \t 128\n",
      "conv3_x.1.residual_function.4.bias \t 128\n",
      "conv4_x.0.residual_function.0.weight \t 294912\n",
      "conv4_x.0.residual_function.1.weight \t 256\n",
      "conv4_x.0.residual_function.1.bias \t 256\n",
      "conv4_x.0.residual_function.3.weight \t 589824\n",
      "conv4_x.0.residual_function.4.weight \t 256\n",
      "conv4_x.0.residual_function.4.bias \t 256\n",
      "conv4_x.0.shortcut.0.weight \t 32768\n",
      "conv4_x.0.shortcut.1.weight \t 256\n",
      "conv4_x.0.shortcut.1.bias \t 256\n",
      "conv4_x.1.residual_function.0.weight \t 589824\n",
      "conv4_x.1.residual_function.1.weight \t 256\n",
      "conv4_x.1.residual_function.1.bias \t 256\n",
      "conv4_x.1.residual_function.3.weight \t 589824\n",
      "conv4_x.1.residual_function.4.weight \t 256\n",
      "conv4_x.1.residual_function.4.bias \t 256\n",
      "conv5_x.0.residual_function.0.weight \t 1179648\n",
      "conv5_x.0.residual_function.1.weight \t 512\n",
      "conv5_x.0.residual_function.1.bias \t 512\n",
      "conv5_x.0.residual_function.3.weight \t 2359296\n",
      "conv5_x.0.residual_function.4.weight \t 512\n",
      "conv5_x.0.residual_function.4.bias \t 512\n",
      "conv5_x.0.shortcut.0.weight \t 131072\n",
      "conv5_x.0.shortcut.1.weight \t 512\n",
      "conv5_x.0.shortcut.1.bias \t 512\n",
      "conv5_x.1.residual_function.0.weight \t 2359296\n",
      "conv5_x.1.residual_function.1.weight \t 512\n",
      "conv5_x.1.residual_function.1.bias \t 512\n",
      "conv5_x.1.residual_function.3.weight \t 2359296\n",
      "conv5_x.1.residual_function.4.weight \t 512\n",
      "conv5_x.1.residual_function.4.bias \t 512\n",
      "fc.weight \t 51200\n",
      "fc.bias \t 100\n",
      "\n",
      "Total \t 11220132\n"
     ]
    }
   ],
   "source": [
    "total = 0\n",
    "print('Trainable parameters:')\n",
    "for name, param in model.named_parameters():\n",
    "    if param.requires_grad:\n",
    "        print(name, '\\t', param.numel())\n",
    "        total += param.numel()\n",
    "print()\n",
    "print('Total', '\\t', total)"
   ]
  },
  {
   "cell_type": "code",
   "execution_count": 26,
   "metadata": {
    "colab": {
     "base_uri": "https://localhost:8080/",
     "height": 1000
    },
    "colab_type": "code",
    "id": "HC8bfyAWYAN6",
    "outputId": "699aad29-6a48-433a-a1c0-dceca66bc885",
    "scrolled": true
   },
   "outputs": [
    {
     "name": "stdout",
     "output_type": "stream",
     "text": [
      "epoch basladı\n",
      "epoch: 0 0/1\n",
      "Accuracy train 0 %\n",
      "Accuracy test 0 %\n",
      "8.552510023117065\n",
      "epoch basladı\n",
      "epoch: 1 0/1\n",
      "Accuracy train 50 %\n",
      "Accuracy test 70 %\n",
      "2.1292247772216797\n",
      "epoch basladı\n",
      "epoch: 2 0/1\n",
      "Accuracy train 70 %\n",
      "Accuracy test 60 %\n",
      "0.6980736255645752\n",
      "epoch basladı\n",
      "epoch: 3 0/1\n",
      "Accuracy train 90 %\n",
      "Accuracy test 90 %\n",
      "0.7131409645080566\n",
      "epoch basladı\n",
      "epoch: 4 0/1\n",
      "Accuracy train 90 %\n",
      "Accuracy test 90 %\n",
      "0.6984360218048096\n",
      "epoch basladı\n",
      "epoch: 5 0/1\n",
      "Accuracy train 90 %\n",
      "Accuracy test 90 %\n",
      "0.7061502933502197\n",
      "epoch basladı\n",
      "epoch: 6 0/1\n",
      "Accuracy train 100 %\n",
      "Accuracy test 100 %\n",
      "0.6910576820373535\n",
      "epoch basladı\n",
      "epoch: 7 0/1\n",
      "Accuracy train 90 %\n",
      "Accuracy test 100 %\n",
      "0.7053089141845703\n",
      "epoch basladı\n",
      "epoch: 8 0/1\n",
      "Accuracy train 100 %\n",
      "Accuracy test 100 %\n",
      "0.69138503074646\n",
      "epoch basladı\n",
      "epoch: 9 0/1\n",
      "Accuracy train 100 %\n",
      "Accuracy test 100 %\n",
      "0.7085084915161133\n",
      "epoch basladı\n",
      "epoch: 10 0/1\n",
      "Accuracy train 100 %\n",
      "Accuracy test 100 %\n",
      "0.6931118965148926\n",
      "epoch basladı\n",
      "epoch: 11 0/1\n",
      "Accuracy train 100 %\n",
      "Accuracy test 100 %\n",
      "0.7023663520812988\n",
      "epoch basladı\n",
      "epoch: 12 0/1\n",
      "Accuracy train 100 %\n",
      "Accuracy test 100 %\n",
      "0.7044937610626221\n",
      "epoch basladı\n",
      "epoch: 13 0/1\n",
      "Accuracy train 100 %\n",
      "Accuracy test 100 %\n",
      "0.7246139049530029\n",
      "epoch basladı\n",
      "epoch: 14 0/1\n",
      "Accuracy train 100 %\n",
      "Accuracy test 100 %\n",
      "0.7255921363830566\n",
      "epoch basladı\n",
      "epoch: 15 0/1\n",
      "Accuracy train 100 %\n",
      "Accuracy test 100 %\n",
      "0.7212820053100586\n",
      "epoch basladı\n",
      "epoch: 16 0/1\n",
      "Accuracy train 100 %\n",
      "Accuracy test 100 %\n",
      "0.7188856601715088\n",
      "epoch basladı\n",
      "epoch: 17 0/1\n",
      "Accuracy train 100 %\n",
      "Accuracy test 100 %\n",
      "0.6965184211730957\n",
      "epoch basladı\n",
      "epoch: 18 0/1\n",
      "Accuracy train 100 %\n",
      "Accuracy test 100 %\n",
      "0.6929423809051514\n",
      "epoch basladı\n",
      "epoch: 19 0/1\n",
      "Accuracy train 100 %\n",
      "Accuracy test 100 %\n",
      "0.7035083770751953\n",
      "epoch basladı\n",
      "epoch: 20 0/1\n",
      "Accuracy train 100 %\n",
      "Accuracy test 100 %\n",
      "0.7117724418640137\n",
      "epoch basladı\n",
      "epoch: 21 0/1\n",
      "Accuracy train 100 %\n",
      "Accuracy test 100 %\n",
      "0.700573205947876\n",
      "epoch basladı\n",
      "epoch: 22 0/1\n",
      "Accuracy train 100 %\n",
      "Accuracy test 100 %\n",
      "0.6955339908599854\n",
      "epoch basladı\n",
      "epoch: 23 0/1\n",
      "Accuracy train 100 %\n",
      "Accuracy test 100 %\n",
      "0.7166502475738525\n",
      "epoch basladı\n",
      "epoch: 24 0/1\n",
      "Accuracy train 100 %\n",
      "Accuracy test 100 %\n",
      "0.6848108768463135\n",
      "epoch basladı\n",
      "epoch: 25 0/1\n",
      "Accuracy train 100 %\n",
      "Accuracy test 100 %\n",
      "0.704291582107544\n",
      "epoch basladı\n",
      "epoch: 26 0/1\n",
      "Accuracy train 100 %\n",
      "Accuracy test 100 %\n",
      "0.7066977024078369\n",
      "epoch basladı\n",
      "epoch: 27 0/1\n",
      "Accuracy train 100 %\n",
      "Accuracy test 100 %\n",
      "0.6990373134613037\n",
      "epoch basladı\n",
      "epoch: 28 0/1\n",
      "Accuracy train 100 %\n",
      "Accuracy test 100 %\n",
      "0.7101294994354248\n",
      "epoch basladı\n",
      "epoch: 29 0/1\n",
      "Accuracy train 100 %\n",
      "Accuracy test 100 %\n",
      "0.695061445236206\n",
      "Training is done\n",
      "Total Training Time (second): 0.695061445236206\n"
     ]
    }
   ],
   "source": [
    "use_gpu = True\n",
    "train_acc = []\n",
    "#start = time.time()\n",
    "loss_list = []\n",
    "running_loss = 0\n",
    "total_step = len(trainloader)\n",
    "for epoch in range(num_epochs):\n",
    "    start = time.time()\n",
    "    print(\"epoch basladı\")\n",
    "    for i, (images, labels) in enumerate(trainloader):       \n",
    "        # gpu\n",
    "        if use_gpu:\n",
    "            if torch.cuda.is_available():\n",
    "                images, labels = images.to(device), labels.to(device)\n",
    "            \n",
    "        outputs = model(images)\n",
    "        \n",
    "        loss = criterion(outputs, labels)\n",
    "\n",
    "            \n",
    "        \n",
    "        # backward and optimization\n",
    "        optimizer.zero_grad()\n",
    "        loss.backward()\n",
    "        optimizer.step()\n",
    "        running_loss += loss.item()\n",
    "        #print(\"epoch bitti\")\n",
    "        if i % 25 == 24: # print every 500 mini batches\n",
    "            print(\"[%d, %5d] loss: %.3f\" % (epoch + 1, i+1,running_loss/25))\n",
    "            running_loss = 0.0\n",
    "        \n",
    "        if i % 7 == 0:\n",
    "            print(\"epoch: {} {}/{}\".format(epoch,i,total_step))\n",
    "\n",
    "\n",
    "    # train\n",
    "    correct = 0\n",
    "    total = 0\n",
    "    with torch.no_grad():\n",
    "        for data in trainloader:\n",
    "            images, labels = data\n",
    "\n",
    "            \n",
    "            # gpu\n",
    "            if use_gpu:\n",
    "                if torch.cuda.is_available():\n",
    "                    images, labels = images.to(device), labels.to(device)\n",
    "\n",
    "\n",
    "            outputs = model(images)\n",
    "            _, predicted = torch.max(outputs.data,1)\n",
    "            total += labels.size(0)\n",
    "            correct += (predicted == labels).sum().item()\n",
    "    print(\"Accuracy train %d %%\"%(100*correct/total))\n",
    "    train_acc.append(100*correct/total)\n",
    "\n",
    "    # test\n",
    "\n",
    "    correct = 0\n",
    "    total = 0\n",
    "    with torch.no_grad():\n",
    "        for data in testloader:\n",
    "            images, labels = data      \n",
    "            # gpu\n",
    "            if use_gpu:\n",
    "                if torch.cuda.is_available():\n",
    "                    images, labels = images.to(device), labels.to(device)                \n",
    "            outputs = model(images)\n",
    "            _, predicted = torch.max(outputs.data,1)\n",
    "            total += labels.size(0)\n",
    "            correct += (predicted == labels).sum().item()\n",
    "    print(\"Accuracy test %d %%\"%(100*correct/total))\n",
    "    train_acc.append(100*correct/total)\n",
    "    loss_list.append(loss.item())\n",
    "    end= time.time()\n",
    "    stopWatch = end-start\n",
    "    #print(\"epoch bitti\")\n",
    "    print(stopWatch)\n",
    "\n",
    "\n",
    "\n",
    "print( \"Training is done\")\n",
    "print('Total Training Time (second):',stopWatch)"
   ]
  },
  {
   "cell_type": "code",
   "execution_count": 32,
   "metadata": {},
   "outputs": [],
   "source": [
    "def display_learning_curves(history):\n",
    "    fig, (ax1, ax2) = plt.subplots(1, 2, figsize=(15, 5))\n",
    "\n",
    "    ax1.plot(history.history[\"loss\"])\n",
    "    ax1.plot(history.history[\"val_loss\"])\n",
    "    ax1.legend([\"train\", \"test\"], loc=\"upper right\")\n",
    "    ax1.set_xlabel(\"Epochs\")\n",
    "    ax1.set_ylabel(\"Loss\")\n",
    "\n",
    "    ax2.plot(history.history[\"acc\"])\n",
    "    ax2.plot(history.history[\"val_acc\"])\n",
    "    ax2.legend([\"train\", \"test\"], loc=\"upper right\")\n",
    "    ax2.set_xlabel(\"Epochs\")\n",
    "    ax2.set_ylabel(\"Accuracy\")\n",
    "    plt.show()"
   ]
  },
  {
   "cell_type": "code",
   "execution_count": 33,
   "metadata": {},
   "outputs": [
    {
     "ename": "NameError",
     "evalue": "name 'history' is not defined",
     "output_type": "error",
     "traceback": [
      "\u001b[1;31m---------------------------------------------------------------------------\u001b[0m",
      "\u001b[1;31mNameError\u001b[0m                                 Traceback (most recent call last)",
      "\u001b[1;32m~\\AppData\\Local\\Temp\\ipykernel_7564\\157022223.py\u001b[0m in \u001b[0;36m<module>\u001b[1;34m\u001b[0m\n\u001b[1;32m----> 1\u001b[1;33m \u001b[0mdisplay_learning_curves\u001b[0m\u001b[1;33m(\u001b[0m\u001b[0mhistory\u001b[0m\u001b[1;33m)\u001b[0m\u001b[1;33m\u001b[0m\u001b[1;33m\u001b[0m\u001b[0m\n\u001b[0m",
      "\u001b[1;31mNameError\u001b[0m: name 'history' is not defined"
     ]
    }
   ],
   "source": [
    "display_learning_curves(history)"
   ]
  },
  {
   "cell_type": "code",
   "execution_count": null,
   "metadata": {},
   "outputs": [],
   "source": []
  }
 ],
 "metadata": {
  "accelerator": "GPU",
  "colab": {
   "name": "ResNet50 on Cifar 100",
   "provenance": []
  },
  "kernelspec": {
   "display_name": "Python 3 (ipykernel)",
   "language": "python",
   "name": "python3"
  },
  "language_info": {
   "codemirror_mode": {
    "name": "ipython",
    "version": 3
   },
   "file_extension": ".py",
   "mimetype": "text/x-python",
   "name": "python",
   "nbconvert_exporter": "python",
   "pygments_lexer": "ipython3",
   "version": "3.10.6"
  },
  "widgets": {
   "application/vnd.jupyter.widget-state+json": {
    "17ab7edf3843410182a0e1b1d2f992fe": {
     "model_module": "@jupyter-widgets/controls",
     "model_name": "FloatProgressModel",
     "state": {
      "_dom_classes": [],
      "_model_module": "@jupyter-widgets/controls",
      "_model_module_version": "1.5.0",
      "_model_name": "FloatProgressModel",
      "_view_count": null,
      "_view_module": "@jupyter-widgets/controls",
      "_view_module_version": "1.5.0",
      "_view_name": "ProgressView",
      "bar_style": "info",
      "description": "",
      "description_tooltip": null,
      "layout": "IPY_MODEL_8b89d0abb7194008bbce622ed5687265",
      "max": 1,
      "min": 0,
      "orientation": "horizontal",
      "style": "IPY_MODEL_3dd48e39941c4b83a6bb5181fccf9554",
      "value": 1
     }
    },
    "3dd48e39941c4b83a6bb5181fccf9554": {
     "model_module": "@jupyter-widgets/controls",
     "model_name": "ProgressStyleModel",
     "state": {
      "_model_module": "@jupyter-widgets/controls",
      "_model_module_version": "1.5.0",
      "_model_name": "ProgressStyleModel",
      "_view_count": null,
      "_view_module": "@jupyter-widgets/base",
      "_view_module_version": "1.2.0",
      "_view_name": "StyleView",
      "bar_color": null,
      "description_width": "initial"
     }
    },
    "74ff845e25604f548f47fea8b629a4aa": {
     "model_module": "@jupyter-widgets/base",
     "model_name": "LayoutModel",
     "state": {
      "_model_module": "@jupyter-widgets/base",
      "_model_module_version": "1.2.0",
      "_model_name": "LayoutModel",
      "_view_count": null,
      "_view_module": "@jupyter-widgets/base",
      "_view_module_version": "1.2.0",
      "_view_name": "LayoutView",
      "align_content": null,
      "align_items": null,
      "align_self": null,
      "border": null,
      "bottom": null,
      "display": null,
      "flex": null,
      "flex_flow": null,
      "grid_area": null,
      "grid_auto_columns": null,
      "grid_auto_flow": null,
      "grid_auto_rows": null,
      "grid_column": null,
      "grid_gap": null,
      "grid_row": null,
      "grid_template_areas": null,
      "grid_template_columns": null,
      "grid_template_rows": null,
      "height": null,
      "justify_content": null,
      "justify_items": null,
      "left": null,
      "margin": null,
      "max_height": null,
      "max_width": null,
      "min_height": null,
      "min_width": null,
      "object_fit": null,
      "object_position": null,
      "order": null,
      "overflow": null,
      "overflow_x": null,
      "overflow_y": null,
      "padding": null,
      "right": null,
      "top": null,
      "visibility": null,
      "width": null
     }
    },
    "8b89d0abb7194008bbce622ed5687265": {
     "model_module": "@jupyter-widgets/base",
     "model_name": "LayoutModel",
     "state": {
      "_model_module": "@jupyter-widgets/base",
      "_model_module_version": "1.2.0",
      "_model_name": "LayoutModel",
      "_view_count": null,
      "_view_module": "@jupyter-widgets/base",
      "_view_module_version": "1.2.0",
      "_view_name": "LayoutView",
      "align_content": null,
      "align_items": null,
      "align_self": null,
      "border": null,
      "bottom": null,
      "display": null,
      "flex": null,
      "flex_flow": null,
      "grid_area": null,
      "grid_auto_columns": null,
      "grid_auto_flow": null,
      "grid_auto_rows": null,
      "grid_column": null,
      "grid_gap": null,
      "grid_row": null,
      "grid_template_areas": null,
      "grid_template_columns": null,
      "grid_template_rows": null,
      "height": null,
      "justify_content": null,
      "justify_items": null,
      "left": null,
      "margin": null,
      "max_height": null,
      "max_width": null,
      "min_height": null,
      "min_width": null,
      "object_fit": null,
      "object_position": null,
      "order": null,
      "overflow": null,
      "overflow_x": null,
      "overflow_y": null,
      "padding": null,
      "right": null,
      "top": null,
      "visibility": null,
      "width": null
     }
    },
    "8bffefb88a124d4a9c0c209b1bde1950": {
     "model_module": "@jupyter-widgets/controls",
     "model_name": "HBoxModel",
     "state": {
      "_dom_classes": [],
      "_model_module": "@jupyter-widgets/controls",
      "_model_module_version": "1.5.0",
      "_model_name": "HBoxModel",
      "_view_count": null,
      "_view_module": "@jupyter-widgets/controls",
      "_view_module_version": "1.5.0",
      "_view_name": "HBoxView",
      "box_style": "",
      "children": [
       "IPY_MODEL_17ab7edf3843410182a0e1b1d2f992fe",
       "IPY_MODEL_a923df6caf654c10adc55ff9c519bb2d"
      ],
      "layout": "IPY_MODEL_74ff845e25604f548f47fea8b629a4aa"
     }
    },
    "a15ab6aea3ca43809d12366dd3563b2c": {
     "model_module": "@jupyter-widgets/controls",
     "model_name": "DescriptionStyleModel",
     "state": {
      "_model_module": "@jupyter-widgets/controls",
      "_model_module_version": "1.5.0",
      "_model_name": "DescriptionStyleModel",
      "_view_count": null,
      "_view_module": "@jupyter-widgets/base",
      "_view_module_version": "1.2.0",
      "_view_name": "StyleView",
      "description_width": ""
     }
    },
    "a923df6caf654c10adc55ff9c519bb2d": {
     "model_module": "@jupyter-widgets/controls",
     "model_name": "HTMLModel",
     "state": {
      "_dom_classes": [],
      "_model_module": "@jupyter-widgets/controls",
      "_model_module_version": "1.5.0",
      "_model_name": "HTMLModel",
      "_view_count": null,
      "_view_module": "@jupyter-widgets/controls",
      "_view_module_version": "1.5.0",
      "_view_name": "HTMLView",
      "description": "",
      "description_tooltip": null,
      "layout": "IPY_MODEL_fc5d9dfdd01546b281c589d9b3e93959",
      "placeholder": "​",
      "style": "IPY_MODEL_a15ab6aea3ca43809d12366dd3563b2c",
      "value": " 169009152/? [00:30&lt;00:00, 17839992.67it/s]"
     }
    },
    "fc5d9dfdd01546b281c589d9b3e93959": {
     "model_module": "@jupyter-widgets/base",
     "model_name": "LayoutModel",
     "state": {
      "_model_module": "@jupyter-widgets/base",
      "_model_module_version": "1.2.0",
      "_model_name": "LayoutModel",
      "_view_count": null,
      "_view_module": "@jupyter-widgets/base",
      "_view_module_version": "1.2.0",
      "_view_name": "LayoutView",
      "align_content": null,
      "align_items": null,
      "align_self": null,
      "border": null,
      "bottom": null,
      "display": null,
      "flex": null,
      "flex_flow": null,
      "grid_area": null,
      "grid_auto_columns": null,
      "grid_auto_flow": null,
      "grid_auto_rows": null,
      "grid_column": null,
      "grid_gap": null,
      "grid_row": null,
      "grid_template_areas": null,
      "grid_template_columns": null,
      "grid_template_rows": null,
      "height": null,
      "justify_content": null,
      "justify_items": null,
      "left": null,
      "margin": null,
      "max_height": null,
      "max_width": null,
      "min_height": null,
      "min_width": null,
      "object_fit": null,
      "object_position": null,
      "order": null,
      "overflow": null,
      "overflow_x": null,
      "overflow_y": null,
      "padding": null,
      "right": null,
      "top": null,
      "visibility": null,
      "width": null
     }
    }
   }
  }
 },
 "nbformat": 4,
 "nbformat_minor": 4
}
