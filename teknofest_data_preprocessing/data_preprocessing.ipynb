{
 "cells": [
  {
   "cell_type": "markdown",
   "id": "6f31b421-dd21-46e2-b014-a96ccf47c419",
   "metadata": {},
   "source": [
    "### Teknofest Veri Ön İşleme - 3"
   ]
  },
  {
   "cell_type": "markdown",
   "id": "101a64a9-72b0-456c-a10a-26d82108fcde",
   "metadata": {},
   "source": [
    "Her memenin LCC fotoğrafını yeniden `kompozisyon` bilgisine göre sınıflandır."
   ]
  },
  {
   "cell_type": "markdown",
   "id": "d073bcfe-3790-4a93-bc2e-5b6066b9da22",
   "metadata": {},
   "source": [
    "Yapılacaklar:\n",
    "\n",
    "**1 -)**\n",
    "\n",
    "Kompozisyon bilgisine göre klasörle\n",
    "\n",
    "**2 -)**\n",
    "\n",
    "Sadece LCC fotoğrafını bırak\n",
    "\n",
    "**3 -)**\n",
    "\n",
    "Her LCC fotoğrafını Kompozisyon bilgisini başa alıp numaralandırarak isimlendir\n",
    "\n",
    "Kompozisyon Fotoğrafları:\n",
    "\n",
    "**A ->** 0... 135 \n",
    "\n",
    "**B ->** 0... 205\n",
    "  .\n",
    "  .\n",
    "  .\n",
    "  \n",
    "**D ->** 0... 155\n",
    "\n",
    "şeklinde olsun.\n",
    "\n",
    "**4 -)**\n",
    "\n",
    "Tüm veri ön işlemeyi birleştir\n",
    "\n",
    "**Not:** Tek bir liste içersinde tutmana gerek yok\n"
   ]
  },
  {
   "cell_type": "markdown",
   "id": "28546bcd-21ce-4435-9cf3-58196174e15a",
   "metadata": {},
   "source": [
    "### To Do:\n",
    "\n",
    "**1 -)** \n",
    "\n",
    "Organize according to composition information with folders.\n",
    "\n",
    "**2 -)** \n",
    "\n",
    "Only leave the LCC photo.\n",
    "\n",
    "**3 -)** \n",
    "\n",
    "Rename each LCC photo by placing the composition information at the beginning and numbering them.\n",
    "\n",
    "Composition Photos:\n",
    "\n",
    "**A ->** 0... 135 \n",
    "\n",
    "**B ->** 0... 205\n",
    "  .\n",
    "  .\n",
    "  .\n",
    "  \n",
    "**D ->** 0... 155\n",
    "\n",
    "in the above format."
   ]
  },
  {
   "cell_type": "markdown",
   "id": "e2fbfb4a-5b44-4442-bac6-3dca1b12ca3c",
   "metadata": {},
   "source": [
    "---"
   ]
  },
  {
   "cell_type": "markdown",
   "id": "2e3fdd18-3174-4c7b-b465-d0b91ec60c62",
   "metadata": {},
   "source": [
    "#### Step 1"
   ]
  },
  {
   "cell_type": "code",
   "execution_count": 1,
   "id": "c85da0f5-c644-4bd7-b3b8-4ec03e7af69a",
   "metadata": {},
   "outputs": [],
   "source": [
    "import os\n",
    "import pandas as pd\n",
    "import numpy as np\n",
    "import openpyxl\n",
    "import shutil\n",
    "from pathlib import Path\n",
    "import pydicom\n",
    "import dicom2jpg\n",
    "from PIL import Image, ImageChops\n",
    "import cv2\n",
    "import time"
   ]
  },
  {
   "cell_type": "code",
   "execution_count": 2,
   "id": "41d130d4-0a4c-49fc-b154-6d5f6008a613",
   "metadata": {},
   "outputs": [
    {
     "name": "stdout",
     "output_type": "stream",
     "text": [
      "0     D\n",
      "1     C\n",
      "2     D\n",
      "3     C\n",
      "4     D\n",
      "5     C\n",
      "6     B\n",
      "7     B\n",
      "8     B\n",
      "9     C\n",
      "10    B\n",
      "Name: MEME KOMPOZİSYONU, dtype: object\n"
     ]
    }
   ],
   "source": [
    "data = pd.read_excel(\"siralama.xlsx\")\n",
    "print(data[\"MEME KOMPOZİSYONU\"])"
   ]
  },
  {
   "cell_type": "code",
   "execution_count": 3,
   "id": "329d7cc2-f7e4-4218-a8c1-f0247252c1a0",
   "metadata": {},
   "outputs": [
    {
     "data": {
      "text/plain": [
       "array(['D', 'C', 'B'], dtype=object)"
      ]
     },
     "execution_count": 3,
     "metadata": {},
     "output_type": "execute_result"
    }
   ],
   "source": [
    "data[\"MEME KOMPOZİSYONU\"].unique()"
   ]
  },
  {
   "cell_type": "code",
   "execution_count": 4,
   "id": "e85a5a01-95c2-42b6-95b5-8fb36ac4fa71",
   "metadata": {},
   "outputs": [
    {
     "data": {
      "text/html": [
       "<div>\n",
       "<style scoped>\n",
       "    .dataframe tbody tr th:only-of-type {\n",
       "        vertical-align: middle;\n",
       "    }\n",
       "\n",
       "    .dataframe tbody tr th {\n",
       "        vertical-align: top;\n",
       "    }\n",
       "\n",
       "    .dataframe thead th {\n",
       "        text-align: right;\n",
       "    }\n",
       "</style>\n",
       "<table border=\"1\" class=\"dataframe\">\n",
       "  <thead>\n",
       "    <tr style=\"text-align: right;\">\n",
       "      <th></th>\n",
       "      <th>HASTANO</th>\n",
       "      <th>BIRADS KATEGORİSİ</th>\n",
       "      <th>MEME KOMPOZİSYONU</th>\n",
       "      <th>KADRAN BİLGİSİ (SAĞ)</th>\n",
       "      <th>KADRAN BİLGİSİ (SOL)</th>\n",
       "      <th>Birads Skoru (EK BİLGİ OLARAK VERİLMİŞTİR, YARIŞMADA İSTENMEYECEKTİR)</th>\n",
       "    </tr>\n",
       "  </thead>\n",
       "  <tbody>\n",
       "    <tr>\n",
       "      <th>0</th>\n",
       "      <td>822670188</td>\n",
       "      <td>BI-RADS0</td>\n",
       "      <td>D</td>\n",
       "      <td>NaN</td>\n",
       "      <td>[\"MERKEZ\"]</td>\n",
       "      <td>Kategori 0: Ek değerlendirme tetkiki yapılmalıdır</td>\n",
       "    </tr>\n",
       "    <tr>\n",
       "      <th>1</th>\n",
       "      <td>822670189</td>\n",
       "      <td>BI-RADS1-2</td>\n",
       "      <td>C</td>\n",
       "      <td>NaN</td>\n",
       "      <td>NaN</td>\n",
       "      <td>Kategori 1: Negatif (bir sorun yok)</td>\n",
       "    </tr>\n",
       "    <tr>\n",
       "      <th>2</th>\n",
       "      <td>822670197</td>\n",
       "      <td>BI-RADS0</td>\n",
       "      <td>D</td>\n",
       "      <td>[\"MERKEZ\"]</td>\n",
       "      <td>[\"MERKEZ\"]</td>\n",
       "      <td>Kategori 0: Ek değerlendirme tetkiki yapılmalıdır</td>\n",
       "    </tr>\n",
       "    <tr>\n",
       "      <th>3</th>\n",
       "      <td>822670201</td>\n",
       "      <td>BI-RADS1-2</td>\n",
       "      <td>C</td>\n",
       "      <td>[\"ÜST DIŞ\"]</td>\n",
       "      <td>[\"ÜST DIŞ\"]</td>\n",
       "      <td>Kategori 2: İyi huylu bulgular</td>\n",
       "    </tr>\n",
       "    <tr>\n",
       "      <th>4</th>\n",
       "      <td>822670202</td>\n",
       "      <td>BI-RADS1-2</td>\n",
       "      <td>D</td>\n",
       "      <td>NaN</td>\n",
       "      <td>NaN</td>\n",
       "      <td>Kategori 2: İyi huylu bulgular</td>\n",
       "    </tr>\n",
       "    <tr>\n",
       "      <th>5</th>\n",
       "      <td>822670206</td>\n",
       "      <td>BI-RADS1-2</td>\n",
       "      <td>C</td>\n",
       "      <td>NaN</td>\n",
       "      <td>NaN</td>\n",
       "      <td>Kategori 1: Negatif (bir sorun yok)</td>\n",
       "    </tr>\n",
       "    <tr>\n",
       "      <th>6</th>\n",
       "      <td>836180612</td>\n",
       "      <td>BI-RADS0</td>\n",
       "      <td>B</td>\n",
       "      <td>NaN</td>\n",
       "      <td>[\"ÜST DIŞ\"]</td>\n",
       "      <td>Kategori 5: Büyük olasılıkla kanser olabilir -...</td>\n",
       "    </tr>\n",
       "    <tr>\n",
       "      <th>7</th>\n",
       "      <td>836180620</td>\n",
       "      <td>BI-RADS0</td>\n",
       "      <td>B</td>\n",
       "      <td>[\"ÜST DIŞ\"]</td>\n",
       "      <td>NaN</td>\n",
       "      <td>Kategori 4: Şüpheli bulgular - Biyopsi yapılma...</td>\n",
       "    </tr>\n",
       "    <tr>\n",
       "      <th>8</th>\n",
       "      <td>836180632</td>\n",
       "      <td>BI-RADS0</td>\n",
       "      <td>B</td>\n",
       "      <td>[\"ÜST DIŞ\"]</td>\n",
       "      <td>NaN</td>\n",
       "      <td>Kategori 5: Büyük olasılıkla kanser olabilir -...</td>\n",
       "    </tr>\n",
       "    <tr>\n",
       "      <th>9</th>\n",
       "      <td>836180633</td>\n",
       "      <td>BI-RADS0</td>\n",
       "      <td>C</td>\n",
       "      <td>[\"ALT İÇ\"]</td>\n",
       "      <td>NaN</td>\n",
       "      <td>Kategori 4: Şüpheli bulgular - Biyopsi yapılma...</td>\n",
       "    </tr>\n",
       "  </tbody>\n",
       "</table>\n",
       "</div>"
      ],
      "text/plain": [
       "     HASTANO BIRADS KATEGORİSİ MEME KOMPOZİSYONU KADRAN BİLGİSİ (SAĞ)  \\\n",
       "0  822670188          BI-RADS0                 D                  NaN   \n",
       "1  822670189        BI-RADS1-2                 C                  NaN   \n",
       "2  822670197          BI-RADS0                 D           [\"MERKEZ\"]   \n",
       "3  822670201        BI-RADS1-2                 C          [\"ÜST DIŞ\"]   \n",
       "4  822670202        BI-RADS1-2                 D                  NaN   \n",
       "5  822670206        BI-RADS1-2                 C                  NaN   \n",
       "6  836180612          BI-RADS0                 B                  NaN   \n",
       "7  836180620          BI-RADS0                 B          [\"ÜST DIŞ\"]   \n",
       "8  836180632          BI-RADS0                 B          [\"ÜST DIŞ\"]   \n",
       "9  836180633          BI-RADS0                 C           [\"ALT İÇ\"]   \n",
       "\n",
       "  KADRAN BİLGİSİ (SOL)  \\\n",
       "0           [\"MERKEZ\"]   \n",
       "1                  NaN   \n",
       "2           [\"MERKEZ\"]   \n",
       "3          [\"ÜST DIŞ\"]   \n",
       "4                  NaN   \n",
       "5                  NaN   \n",
       "6          [\"ÜST DIŞ\"]   \n",
       "7                  NaN   \n",
       "8                  NaN   \n",
       "9                  NaN   \n",
       "\n",
       "  Birads Skoru (EK BİLGİ OLARAK VERİLMİŞTİR, YARIŞMADA İSTENMEYECEKTİR)  \n",
       "0  Kategori 0: Ek değerlendirme tetkiki yapılmalıdır                     \n",
       "1                Kategori 1: Negatif (bir sorun yok)                     \n",
       "2  Kategori 0: Ek değerlendirme tetkiki yapılmalıdır                     \n",
       "3                     Kategori 2: İyi huylu bulgular                     \n",
       "4                     Kategori 2: İyi huylu bulgular                     \n",
       "5                Kategori 1: Negatif (bir sorun yok)                     \n",
       "6  Kategori 5: Büyük olasılıkla kanser olabilir -...                     \n",
       "7  Kategori 4: Şüpheli bulgular - Biyopsi yapılma...                     \n",
       "8  Kategori 5: Büyük olasılıkla kanser olabilir -...                     \n",
       "9  Kategori 4: Şüpheli bulgular - Biyopsi yapılma...                     "
      ]
     },
     "execution_count": 4,
     "metadata": {},
     "output_type": "execute_result"
    }
   ],
   "source": [
    "data.head(10)"
   ]
  },
  {
   "cell_type": "code",
   "execution_count": 5,
   "id": "9bf00ced-3547-446b-923d-0a0ac56fb39d",
   "metadata": {},
   "outputs": [],
   "source": [
    "komp_A = \"A\"\n",
    "komp_B = \"B\"\n",
    "komp_C = \"C\"\n",
    "komp_D = \"D\""
   ]
  },
  {
   "cell_type": "code",
   "execution_count": 6,
   "id": "16def807-98a3-4c1c-a4c8-fd528d0d7e2c",
   "metadata": {},
   "outputs": [],
   "source": [
    "def categorized_on_dict():\n",
    "    \n",
    "    data = pd.read_excel(\"siralama.xlsx\") \n",
    "    \n",
    "    k_A = data[data[\"MEME KOMPOZİSYONU\"] == komp_A]\n",
    "    k_A_folder = [int(isim) for isim in k_A[\"HASTANO\"]]\n",
    "    \n",
    "    k_B = data[data[\"MEME KOMPOZİSYONU\"] == komp_B]\n",
    "    k_B_folder = [int(isim) for isim in k_B[\"HASTANO\"]]\n",
    "    \n",
    "    k_C = data[data[\"MEME KOMPOZİSYONU\"] == komp_C]\n",
    "    k_C_folder = [int(isim) for isim in k_C[\"HASTANO\"]]\n",
    "    \n",
    "    k_D = data[data[\"MEME KOMPOZİSYONU\"] == komp_D]\n",
    "    k_D_folder = [int(isim) for isim in k_D[\"HASTANO\"]]\n",
    "        \n",
    "    k_dict = {komp_A:k_A_folder, komp_B:k_B_folder, komp_C:k_C_folder, komp_D:k_D_folder}\n",
    "    \n",
    "    return k_dict"
   ]
  },
  {
   "cell_type": "code",
   "execution_count": 7,
   "id": "318e9252-1081-47dd-b7f1-00b0ca6dc106",
   "metadata": {
    "tags": []
   },
   "outputs": [
    {
     "data": {
      "text/plain": [
       "{'A': [],\n",
       " 'B': [836180612, 836180620, 836180632, 836194603],\n",
       " 'C': [822670189, 822670201, 822670206, 836180633],\n",
       " 'D': [822670188, 822670197, 822670202]}"
      ]
     },
     "execution_count": 7,
     "metadata": {},
     "output_type": "execute_result"
    }
   ],
   "source": [
    "file_path = os.getcwd()\n",
    "categorized_data = categorized_on_dict()\n",
    "categorized_data"
   ]
  },
  {
   "cell_type": "code",
   "execution_count": 8,
   "id": "66a1ea90-0fc3-4439-ba37-d9107979e0c4",
   "metadata": {},
   "outputs": [],
   "source": [
    "def new_field_list(source_field):\n",
    "    \"\"\"\n",
    "     To avoid code repetition, this was written as a separate function. \n",
    "     Its purpose is to append the names of other fixed files, such as LCC.dcm, to the source field end, and to return this as a part of a list.\n",
    "    \"\"\"\n",
    "    \n",
    "    files = [\"LCC.dcm\", \"LMLO.dcm\", \"RCC.dcm\", \"RMLO.dcm\"]\n",
    "    new_files = [\"LCC.png\", \"LMLO.png\", \"RCC.png\", \"RMLO.png\"] \n",
    "    \n",
    "    field = \"\"\n",
    "    new_field = list()\n",
    "    new_field_png = list()\n",
    "    \n",
    "    for file in files:\n",
    "        field = source_field + \"/\" + file\n",
    "        new_field.append(field)\n",
    "    \n",
    "    for n_file in new_files:\n",
    "        field = source_field + \"/\" + n_file\n",
    "        new_field_png.append(field)\n",
    "    \n",
    "    return (new_field, new_field_png)\n",
    "    "
   ]
  },
  {
   "cell_type": "code",
   "execution_count": 9,
   "id": "71d5a669-6913-4c25-8c5e-18cd669f235b",
   "metadata": {},
   "outputs": [],
   "source": [
    "def change_and_resize(source_field):\n",
    "    \n",
    "    images = new_field_list(source_field)[1]\n",
    "    \n",
    "    for image in images:\n",
    "        try:       \n",
    "            img = cv2.imread(image)\n",
    "            gray = cv2.cvtColor(img, cv2.COLOR_BGR2GRAY)\n",
    "            gray = cv2.resize(gray, (224, 224), interpolation=cv2.INTER_AREA)\n",
    "            img2 = np.zeros([224, 224, 3], dtype=np.uint8) \n",
    "            img2[:, :, 0] = gray\n",
    "            img2[:, :, 1] = gray\n",
    "            img2[:, :, 2] = gray\n",
    "            cv2.imwrite(image, img2)\n",
    "        except FileNotFoundError as e:\n",
    "            break\n",
    "        except Exception as e:\n",
    "            print(e)\n",
    "            break\n"
   ]
  },
  {
   "cell_type": "code",
   "execution_count": 10,
   "id": "07dfe489-d47f-4e8a-a611-3f0a77619538",
   "metadata": {},
   "outputs": [],
   "source": [
    "def outlier_detection(source_field):\n",
    "    \"\"\"\n",
    "     This was written here to identify files within the patient number folder that are larger than X MB and smaller than X MB in size.\n",
    "    \"\"\"\n",
    "    \n",
    "    # What should be done with files that exist in Excel but not in the folder?\n",
    "    \n",
    "    size = 0\n",
    "\n",
    "    for path, dirs, files in os.walk(source_field):\n",
    "        for f in files:\n",
    "            try:                \n",
    "                fp = os.path.join(path, f)\n",
    "                size += os.path.getsize(fp)\n",
    "            except OSError:\n",
    "                return False\n",
    "\n",
    "    #print(\"Folder size: \" + str(size))    \n",
    "    if (size < 56623104 and size > 52428800):  \n",
    "        \n",
    "        return True\n",
    "    else:\n",
    "        \n",
    "        return False\n",
    "    "
   ]
  },
  {
   "cell_type": "code",
   "execution_count": 11,
   "id": "e5904c7f-67c6-4b65-8bb5-5c606b7a092b",
   "metadata": {},
   "outputs": [],
   "source": [
    "def convert(source_field):\n",
    "    \"\"\"\n",
    "     Convert a file with the .dcm extension to the .jpg format.\n",
    "    \"\"\"\n",
    "    \n",
    "    list0 = new_field_list(source_field)[0]\n",
    "    list1 = new_field_list(source_field)[1]\n",
    "    \n",
    "    for d, j in zip(list0, list1):\n",
    "        \n",
    "        #print(l)\n",
    "\n",
    "        im = pydicom.dcmread(d)\n",
    "        im = im.pixel_array.astype(float)\n",
    "\n",
    "        rescaled_image = (np.maximum(im, 0) / im.max()) * 255.0\n",
    "        final_image = np.uint8(rescaled_image)\n",
    "\n",
    "        final_image = Image.fromarray(final_image)\n",
    "        #final_image.show()\n",
    "\n",
    "        inv_img = ImageChops.invert(final_image)\n",
    "        os.remove(d)\n",
    "\n",
    "        inv_img.save(j)      \n",
    "  "
   ]
  },
  {
   "cell_type": "code",
   "execution_count": 12,
   "id": "cfdd9948-c1a9-40e9-988d-0fafcb378013",
   "metadata": {},
   "outputs": [],
   "source": [
    "def crop(source_field):\n",
    "    \"\"\"\n",
    "     For each .png format file you handle, come here and crop it before moving. This way, it will be moved as a cropped version.\n",
    "    \"\"\"\n",
    "    \n",
    "    #convert(kynk)\n",
    "    \n",
    "    my_list = new_field_list(source_field)[1]\n",
    "    \n",
    "    for l in my_list:\n",
    "        \n",
    "        img = Image.open(l)\n",
    "        # 2364x2964\n",
    "       \n",
    "        if (\"LCC\" in l or \"LMLO\" in l):\n",
    "            \n",
    "            imgCropped = img.crop(box = (0,0,1500,2964))\n",
    "            os.remove(l)\n",
    "            imgCropped.save(l)\n",
    "\n",
    "        elif(\"RCC\" in l or \"RMLO\" in l):\n",
    "            \n",
    "            imgCropped = img.crop(box = (900,0,2364,2964))\n",
    "            #os.remove(l)\n",
    "            imgCropped.save(l)\n",
    "            \n",
    "        else:\n",
    "            pass\n",
    "     "
   ]
  },
  {
   "cell_type": "code",
   "execution_count": 13,
   "id": "831e3825-952e-42ca-baeb-d62b84e0fd58",
   "metadata": {},
   "outputs": [],
   "source": [
    "def move(source, destination):\n",
    "    \n",
    "    shutil.move(source ,destination)"
   ]
  },
  {
   "cell_type": "code",
   "execution_count": 14,
   "id": "a1a6fd94-a4d5-4a78-93c7-a9e7f8507240",
   "metadata": {},
   "outputs": [],
   "source": [
    "def find_odetection_convert_crop_change_and_resize_move(categorized_data):\n",
    "    \"\"\"\n",
    "    In the incoming dictionary structure, we are aware of the files for each category. \n",
    "    What we need to do is, while iterating over these folder names, place or move each one to the corresponding category we find.\n",
    "    \"\"\"\n",
    "    \n",
    "    current_directory = os.getcwd()\n",
    "    source_directory_path = Path(current_directory + \"/test\")\n",
    "    destination_directory_path = Path(current_directory + \"/Data\")\n",
    "\n",
    "    target_directory_and_dict_column_list = [komp_A, komp_B, komp_C, komp_D]\n",
    "    \n",
    "    for value in target_directory_and_dict_column_list:\n",
    "        #print(value)\n",
    "        destination_directory = str(destination_directory_path) + \"/\" + value\n",
    "        #print(\"value ->\", destination_directory)\n",
    "    \n",
    "        for folder in categorized_data[value]:    \n",
    "    \n",
    "            source_path = str(source_directory_path) + \"/\" + str(folder)\n",
    "            #print(\"Source ->\", source_path)    \n",
    "            \n",
    "            if outlier_detection(source_path):\n",
    "            \n",
    "                convert(source_path)  # Call the conversion function to convert to PNG format collectively --> convert() will use source_path\n",
    "                crop(source_path)     # Crop all of them at once when it comes here --> crop() +\n",
    "                change_and_resize(source_path) # Resize all of them when it comes here --> resize_images()\n",
    "                move(source_path, destination_directory) # +\n",
    "            else:\n",
    "                \n",
    "                try:\n",
    "                    shutil.rmtree(source_path)\n",
    "                    continue\n",
    "                except FileNotFoundError:\n",
    "                    continue"
   ]
  },
  {
   "cell_type": "markdown",
   "id": "26bc8b5b-e787-4dbf-9d0a-4bb595638820",
   "metadata": {},
   "source": [
    "---"
   ]
  },
  {
   "cell_type": "markdown",
   "id": "04e47425-06b4-4f14-ae0e-3c092b26bd27",
   "metadata": {},
   "source": [
    "#### Step 2"
   ]
  },
  {
   "cell_type": "code",
   "execution_count": 15,
   "id": "e7b29217-4aac-4013-bb29-40c08c436fd3",
   "metadata": {},
   "outputs": [],
   "source": [
    "def delete(source_field):\n",
    "    \"\"\"\n",
    "     Delete all images except for LCC.png.\n",
    "    \"\"\"\n",
    "    \n",
    "    images = new_field_list(source_field)[1]\n",
    "\n",
    "    for image in images:\n",
    "        \n",
    "        if not \"LCC\" in image:\n",
    "            try:       \n",
    "                os.remove(image)\n",
    "            except FileNotFoundError:\n",
    "                break\n",
    "        else:\n",
    "            \n",
    "            continue\n",
    "            "
   ]
  },
  {
   "cell_type": "code",
   "execution_count": 16,
   "id": "b0c124cb-c7b8-4481-8594-29523387d04a",
   "metadata": {},
   "outputs": [],
   "source": [
    "def rename_images(destination_directory, k):\n",
    "    \"\"\"\n",
    "    Rename the photos of each patient file by adding the category number's name as a prefix and numbering them sequentially.\n",
    "    \"\"\"\n",
    "    compositions = [\"A\", \"B\", \"C\", \"D\"]\n",
    "    \n",
    "    new_name = \"\"\n",
    "    \n",
    "    global number \n",
    "       \n",
    "    photos = new_field_list(destination_directory)[1]\n",
    "    \n",
    "    if k == compositions[0]:\n",
    "\n",
    "        for photo in photos:\n",
    "            new_name = f\"A{number}\"\n",
    "            \n",
    "            try:\n",
    "                os.rename(src=photo, dst=destination_directory + \"/\" + new_name + \".png\")\n",
    "            except FileNotFoundError:\n",
    "                break\n",
    "                \n",
    "            number = number + 1\n",
    "    elif k == compositions[1]:\n",
    "\n",
    "        for photo in photos:\n",
    "            new_name = f\"B{number}\"\n",
    "            \n",
    "            try:\n",
    "                os.rename(src=photo, dst=destination_directory + \"/\" + new_name + \".png\")\n",
    "            except FileNotFoundError:\n",
    "                break\n",
    "                \n",
    "            number = number + 1\n",
    "    elif k == compositions[2]:\n",
    "\n",
    "        for photo in photos:\n",
    "            new_name = f\"C{number}\"\n",
    "            \n",
    "            try:\n",
    "                os.rename(src=photo, dst=destination_directory + \"/\" + new_name + \".png\")\n",
    "            except FileNotFoundError:\n",
    "                break\n",
    "                \n",
    "            number = number + 1 \n",
    "    elif k == compositions[3]:\n",
    "\n",
    "        for photo in photos:\n",
    "            new_name = f\"D{number}\"\n",
    "            \n",
    "            try:\n",
    "                os.rename(src=photo, dst=destination_directory + \"/\" + new_name + \".png\")\n",
    "            except FileNotFoundError:\n",
    "                break\n",
    "                \n",
    "            number = number + 1\n",
    "    else:\n",
    "        \n",
    "        pass\n"
   ]
  },
  {
   "cell_type": "code",
   "execution_count": 17,
   "id": "3ab5b9e9-f65a-40e3-bd28-17b10f744afe",
   "metadata": {},
   "outputs": [],
   "source": [
    "def find_rename_and_delete(categorized_data):\n",
    "    \"\"\"\n",
    "     Find and rename the photos of each patient file in the Data folder.\n",
    "    \"\"\"\n",
    "    \n",
    "    current_directory = os.getcwd()\n",
    "    directory_path = Path(current_directory + \"/Data\")\n",
    "\n",
    "    compositions = [\"A\", \"B\", \"C\", \"D\"]\n",
    "    \n",
    "    global number\n",
    "\n",
    "    for element in compositions:\n",
    "        \n",
    "        number = 0\n",
    "        \n",
    "        comp_directory = \"\"\n",
    "        \n",
    "        comp_directory = str(directory_path) + \"/\" + element\n",
    "        #print(comp_directory)\n",
    "        \n",
    "        for column in categorized_data[element]:\n",
    "            destination_directory = comp_directory + \"/\" + str(column)\n",
    "            #print(destination_directory)\n",
    "            \n",
    "            #delete(destination_directory)\n",
    "            rename_images(destination_directory, element)"
   ]
  },
  {
   "cell_type": "markdown",
   "id": "48946671-d1ff-4794-a272-34ffe3aace3b",
   "metadata": {},
   "source": [
    "---"
   ]
  },
  {
   "cell_type": "markdown",
   "id": "2861215b-a65f-468d-817a-0f3388687088",
   "metadata": {},
   "source": [
    "#### Special"
   ]
  },
  {
   "cell_type": "code",
   "execution_count": 18,
   "id": "171df8f2-57ea-4056-b447-cde4baf54287",
   "metadata": {},
   "outputs": [],
   "source": [
    "def special_change_and_resize(image):\n",
    "    \n",
    "    #print(image)\n",
    "    try:       \n",
    "        img = cv2.imread(image)\n",
    "        gray = cv2.cvtColor(img, cv2.COLOR_BGR2GRAY)\n",
    "        gray = cv2.resize(gray, (224, 224), interpolation=cv2.INTER_AREA)\n",
    "        img2 = np.zeros([224, 224, 3], dtype=np.uint8) \n",
    "        img2[:, :, 0] = gray\n",
    "        img2[:, :, 1] = gray\n",
    "        img2[:, :, 2] = gray\n",
    "        cv2.imwrite(image, img2)\n",
    "    except FileNotFoundError as e:\n",
    "        print(e)\n",
    "    except Exception as e:\n",
    "        print(e)"
   ]
  },
  {
   "cell_type": "code",
   "execution_count": 19,
   "id": "1ea6dcef-15ba-4f3a-a96c-03ffcdd20a7e",
   "metadata": {},
   "outputs": [],
   "source": [
    "def resize_images(image):\n",
    " \n",
    "    image = Image.open(image)\n",
    "    new_image = image.resize((224, 224))\n",
    "    new_image.save(image)\n",
    "    #print(image)"
   ]
  },
  {
   "cell_type": "code",
   "execution_count": 20,
   "id": "d88712ac-3cb3-445a-a817-77e1d98afddb",
   "metadata": {},
   "outputs": [],
   "source": [
    "def special_resize(source_field):\n",
    "    \n",
    "    os.walk(source_field)\n",
    "    \n",
    "    for path, dirs, files in os.walk(source_field):\n",
    "        \n",
    "        for f in files:               \n",
    "            fp = os.path.join(path, f)\n",
    "            #print(fp)\n",
    "\n",
    "            #change_and_resize_test(fp)\n",
    "            #resize_images(fp)\n"
   ]
  },
  {
   "cell_type": "code",
   "execution_count": null,
   "id": "0e6ec306-4689-4216-8367-734818f9bd59",
   "metadata": {},
   "outputs": [],
   "source": [
    "ka = r\"C:\\Users\\erdem\\Desktop\\teknofest_veri_on_isleme\\Data\"\n",
    "\n",
    "start_time = time.time()\n",
    "special_resize_test(ka)\n",
    "print(\"--- %s seconds ---\" % (time.time() - start_time))"
   ]
  },
  {
   "cell_type": "markdown",
   "id": "6dc5bdc9-aea0-4324-802a-ee95feec04f6",
   "metadata": {},
   "source": [
    "---"
   ]
  },
  {
   "cell_type": "markdown",
   "id": "69b7b987-9eca-46d5-a88c-97fefd2f988e",
   "metadata": {},
   "source": [
    "**Step 1**"
   ]
  },
  {
   "cell_type": "code",
   "execution_count": 23,
   "id": "5b46a672-5e3c-47e7-b1af-1aefe995af1a",
   "metadata": {},
   "outputs": [
    {
     "name": "stdout",
     "output_type": "stream",
     "text": [
      "--- 36.800759077072144 seconds ---\n"
     ]
    }
   ],
   "source": [
    "start_time = time.time()\n",
    "find_odetection_convert_crop_change_and_resize_move(categorized_data)\n",
    "print(\"--- %s seconds ---\" % (time.time() - start_time))"
   ]
  },
  {
   "cell_type": "markdown",
   "id": "2eb3eacc-cf57-4698-b9fc-7525ff84cd39",
   "metadata": {},
   "source": [
    "**Step 2**"
   ]
  },
  {
   "cell_type": "code",
   "execution_count": 24,
   "id": "3c043da5-37c2-416e-a2df-25e86b66daa0",
   "metadata": {},
   "outputs": [
    {
     "name": "stdout",
     "output_type": "stream",
     "text": [
      "--- 0.028896093368530273 seconds ---\n"
     ]
    }
   ],
   "source": [
    "start_time = time.time()\n",
    "find_rename_and_delete(categorized_data)\n",
    "print(\"--- %s seconds ---\" % (time.time() - start_time))"
   ]
  },
  {
   "cell_type": "markdown",
   "id": "57fae2f6-8952-40b3-b879-68558555e25d",
   "metadata": {},
   "source": [
    "---"
   ]
  },
  {
   "cell_type": "markdown",
   "id": "4bbcac77-45aa-4c69-83d1-68d91039511d",
   "metadata": {},
   "source": [
    "### Test"
   ]
  },
  {
   "cell_type": "code",
   "execution_count": 83,
   "id": "e2791f45-f7b9-4bb5-9846-4a8d4b5f1019",
   "metadata": {},
   "outputs": [
    {
     "name": "stdout",
     "output_type": "stream",
     "text": [
      "True\n"
     ]
    }
   ],
   "source": [
    "path = r\"C:\\Users\\erdem\\Desktop\\teknofest_veri_on_isleme\\test\\822670197\"\n",
    "\n",
    "print(outlier_detection_test(path))"
   ]
  },
  {
   "cell_type": "code",
   "execution_count": 53,
   "id": "80ec8b45-3434-494e-9393-ce7b87a1617d",
   "metadata": {},
   "outputs": [
    {
     "name": "stdout",
     "output_type": "stream",
     "text": [
      "--- 0.7163238525390625 saniye ---\n"
     ]
    }
   ],
   "source": [
    "ka = r\"C:\\Users\\erdem\\Desktop\\teknofest_veri_on_isleme\\Data\"\n",
    "\n",
    "start_time = time.time()\n",
    "special_resize_test(ka)\n",
    "print(\"--- %s seconds ---\" % (time.time() - start_time))"
   ]
  },
  {
   "cell_type": "markdown",
   "id": "624e4e14-09a3-48f9-a59f-bfc88ef03f04",
   "metadata": {},
   "source": [
    "---"
   ]
  },
  {
   "cell_type": "markdown",
   "id": "36a41cc7-7a58-4ae4-849e-fa8f3d9bb3ae",
   "metadata": {},
   "source": [
    "#### New İdeas"
   ]
  },
  {
   "cell_type": "markdown",
   "id": "078b6d4b-cc51-47a7-bf68-7019cd8fa34d",
   "metadata": {},
   "source": [
    "##### take look lcc.png and rcc.png diff"
   ]
  },
  {
   "cell_type": "code",
   "execution_count": 108,
   "id": "581996ad-743f-4bf9-9d7e-9e4496230f2f",
   "metadata": {},
   "outputs": [],
   "source": [
    "def diff(source_field):\n",
    "    \n",
    "    photos = new_field_list(source_field)[1]\n",
    "    \n",
    "    lcc_path = photos[0]  # photos[0] -> LCC \n",
    "    rcc_path = photos[3]  # photos[3] -> RCC\n",
    "    \n",
    "    lcc_img = Image.open(lcc_path)\n",
    "    rcc_img = Image.open(rcc_path)\n",
    "    \n",
    "    difference = ImageChops.difference(lcc_img, rcc_img)\n",
    "    \n",
    "    difference.show()"
   ]
  },
  {
   "cell_type": "code",
   "execution_count": 48,
   "id": "858ba34c-3600-4298-b47b-e8df50a35847",
   "metadata": {},
   "outputs": [],
   "source": [
    "source = r\"C:\\Users\\erdem\\Desktop\\teknofest_veri_on_isleme\\Data\\B\\836180620\"\n",
    "diff(source)"
   ]
  },
  {
   "cell_type": "code",
   "execution_count": null,
   "id": "6f3250e9-0c07-4b1e-82cd-9f4c60ef4c48",
   "metadata": {},
   "outputs": [],
   "source": []
  }
 ],
 "metadata": {
  "kernelspec": {
   "display_name": "Python 3 (ipykernel)",
   "language": "python",
   "name": "python3"
  },
  "language_info": {
   "codemirror_mode": {
    "name": "ipython",
    "version": 3
   },
   "file_extension": ".py",
   "mimetype": "text/x-python",
   "name": "python",
   "nbconvert_exporter": "python",
   "pygments_lexer": "ipython3",
   "version": "3.10.6"
  }
 },
 "nbformat": 4,
 "nbformat_minor": 5
}
